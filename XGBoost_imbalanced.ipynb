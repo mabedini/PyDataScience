{
 "cells": [
  {
   "cell_type": "code",
   "execution_count": 42,
   "metadata": {},
   "outputs": [],
   "source": [
    "from sklearn.datasets import make_classification\n",
    "from collections import Counter\n",
    "import numpy as np\n",
    "from matplotlib import pyplot"
   ]
  },
  {
   "cell_type": "code",
   "execution_count": 46,
   "metadata": {},
   "outputs": [],
   "source": [
    "# generate randomly high imbalanced data\n",
    "X,y = make_classification(n_samples= 10000 , n_classes = 2, n_features = 2, n_clusters_per_class=2, n_redundant =0 , weights=[0.99])"
   ]
  },
  {
   "cell_type": "code",
   "execution_count": 47,
   "metadata": {},
   "outputs": [],
   "source": [
    "counter = Counter(y)"
   ]
  },
  {
   "cell_type": "code",
   "execution_count": 48,
   "metadata": {},
   "outputs": [
    {
     "name": "stdout",
     "output_type": "stream",
     "text": [
      "Counter({0: 9855, 1: 145})\n"
     ]
    }
   ],
   "source": [
    "print(counter)"
   ]
  },
  {
   "cell_type": "code",
   "execution_count": 53,
   "metadata": {},
   "outputs": [
    {
     "data": {
      "image/png": "[encoded data removed]",
      "text/plain": [
       "<Figure size 432x288 with 1 Axes>"
      ]
     },
     "metadata": {
      "needs_background": "light"
     },
     "output_type": "display_data"
    }
   ],
   "source": [
    "# visualize the class distribution\n",
    "for label , _ in counter.items():\n",
    "    inx = np.where( y==label)\n",
    "    pyplot.scatter(X[inx,0],X[inx,1] , label = str(label))\n",
    "pyplot.legend()\n",
    "pyplot.show()"
   ]
  },
  {
   "cell_type": "code",
   "execution_count": 55,
   "metadata": {},
   "outputs": [],
   "source": [
    "from sklearn.model_selection import RepeatedStratifiedKFold\n",
    "from sklearn.model_selection import cross_val_score\n",
    "from xgboost import XGBClassifier"
   ]
  },
  {
   "cell_type": "code",
   "execution_count": 57,
   "metadata": {},
   "outputs": [],
   "source": [
    "# train model with 10 fold , 3 repeats of XGBoost classifier , no parameter tuning\n",
    "model = XGBClassifier()\n",
    "cv = RepeatedStratifiedKFold(n_splits= 10, n_repeats = 3 )\n",
    "score = cross_val_score(model, X, y , cv=cv, scoring = 'roc_auc')"
   ]
  },
  {
   "cell_type": "code",
   "execution_count": 61,
   "metadata": {},
   "outputs": [
    {
     "name": "stdout",
     "output_type": "stream",
     "text": [
      "mean of auc = 0.83305\n"
     ]
    }
   ],
   "source": [
    "# the base line auc\n",
    "print('mean of auc = %.5f' % np.mean(score))"
   ]
  },
  {
   "cell_type": "code",
   "execution_count": 66,
   "metadata": {},
   "outputs": [
    {
     "name": "stdout",
     "output_type": "stream",
     "text": [
      "67.96551724137932\n"
     ]
    }
   ],
   "source": [
    "# XGBoost has scale weight to set it up for imbalance data faster convergence \n",
    "estimate  = (counter[0] / counter[1])\n",
    "print (estimate )"
   ]
  },
  {
   "cell_type": "code",
   "execution_count": 77,
   "metadata": {},
   "outputs": [],
   "source": [
    "model_imb = XGBClassifier(scale_pos_weight = 99) "
   ]
  },
  {
   "cell_type": "code",
   "execution_count": 78,
   "metadata": {},
   "outputs": [],
   "source": [
    "score_imb = cross_val_score(model_imb , X, y , scoring = 'roc_auc' , cv =cv)"
   ]
  },
  {
   "cell_type": "code",
   "execution_count": 79,
   "metadata": {},
   "outputs": [
    {
     "name": "stdout",
     "output_type": "stream",
     "text": [
      "mean of auc of imblance XGBoost 0.82850\n"
     ]
    }
   ],
   "source": [
    "# get the aur score for imbalance XGBoost classifier\n",
    "print('mean of auc of imblance XGBoost %.5f' % np.mean(score_imb))"
   ]
  },
  {
   "cell_type": "markdown",
   "metadata": {},
   "source": [
    "# we can leverage grid search for checkign various weight class"
   ]
  },
  {
   "cell_type": "code",
   "execution_count": 85,
   "metadata": {},
   "outputs": [],
   "source": [
    "from sklearn.model_selection import GridSearchCV"
   ]
  },
  {
   "cell_type": "code",
   "execution_count": 81,
   "metadata": {},
   "outputs": [],
   "source": [
    "weights = [1, 10 , 20 , 25, 50 , 75, 99, 100, 1000]\n",
    "param_grid = dict(scale_pos_wieght = weights)"
   ]
  },
  {
   "cell_type": "code",
   "execution_count": 83,
   "metadata": {},
   "outputs": [],
   "source": [
    "cv = RepeatedStratifiedKFold(n_splits = 10, n_repeats =3)"
   ]
  },
  {
   "cell_type": "code",
   "execution_count": 87,
   "metadata": {},
   "outputs": [],
   "source": [
    "# run grid search\n",
    "grid = GridSearchCV(estimator = model_imb , param_grid = param_grid, cv =cv)"
   ]
  },
  {
   "cell_type": "code",
   "execution_count": 88,
   "metadata": {},
   "outputs": [],
   "source": [
    "result = grid.fit(X,y)"
   ]
  },
  {
   "cell_type": "code",
   "execution_count": 92,
   "metadata": {},
   "outputs": [
    {
     "name": "stdout",
     "output_type": "stream",
     "text": [
      "best 0.941933 with {'scale_pos_wieght': 1} \n"
     ]
    }
   ],
   "source": [
    "print(\"best %f with %s \"% (result.best_score_ , result.best_params_))"
   ]
  },
  {
   "cell_type": "code",
   "execution_count": 94,
   "metadata": {},
   "outputs": [
    {
     "data": {
      "text/plain": [
       "{'mean_fit_time': array([0.42678093, 0.42008049, 0.41613821, 0.44357963, 0.43962414,\n",
       "        0.45287045, 0.45089786, 0.44451266, 0.45665865]),\n",
       " 'std_fit_time': array([0.09524587, 0.09223133, 0.08958843, 0.06728804, 0.09799056,\n",
       "        0.09709034, 0.08867841, 0.09564417, 0.08290009]),\n",
       " 'mean_score_time': array([0.00374723, 0.00388621, 0.00345881, 0.00372025, 0.00398284,\n",
       "        0.00350471, 0.00405054, 0.00420606, 0.00398773]),\n",
       " 'std_score_time': array([0.00240269, 0.00171812, 0.00161339, 0.00186487, 0.00210619,\n",
       "        0.00167048, 0.00180646, 0.00197382, 0.00154115]),\n",
       " 'param_scale_pos_wieght': masked_array(data=[1, 10, 20, 25, 50, 75, 99, 100, 1000],\n",
       "              mask=[False, False, False, False, False, False, False, False,\n",
       "                    False],\n",
       "        fill_value='?',\n",
       "             dtype=object),\n",
       " 'params': [{'scale_pos_wieght': 1},\n",
       "  {'scale_pos_wieght': 10},\n",
       "  {'scale_pos_wieght': 20},\n",
       "  {'scale_pos_wieght': 25},\n",
       "  {'scale_pos_wieght': 50},\n",
       "  {'scale_pos_wieght': 75},\n",
       "  {'scale_pos_wieght': 99},\n",
       "  {'scale_pos_wieght': 100},\n",
       "  {'scale_pos_wieght': 1000}],\n",
       " 'split0_test_score': array([0.961, 0.961, 0.961, 0.961, 0.961, 0.961, 0.961, 0.961, 0.961]),\n",
       " 'split1_test_score': array([0.936, 0.936, 0.936, 0.936, 0.936, 0.936, 0.936, 0.936, 0.936]),\n",
       " 'split2_test_score': array([0.943, 0.943, 0.943, 0.943, 0.943, 0.943, 0.943, 0.943, 0.943]),\n",
       " 'split3_test_score': array([0.936, 0.936, 0.936, 0.936, 0.936, 0.936, 0.936, 0.936, 0.936]),\n",
       " 'split4_test_score': array([0.933, 0.933, 0.933, 0.933, 0.933, 0.933, 0.933, 0.933, 0.933]),\n",
       " 'split5_test_score': array([0.934, 0.934, 0.934, 0.934, 0.934, 0.934, 0.934, 0.934, 0.934]),\n",
       " 'split6_test_score': array([0.943, 0.943, 0.943, 0.943, 0.943, 0.943, 0.943, 0.943, 0.943]),\n",
       " 'split7_test_score': array([0.945, 0.945, 0.945, 0.945, 0.945, 0.945, 0.945, 0.945, 0.945]),\n",
       " 'split8_test_score': array([0.948, 0.948, 0.948, 0.948, 0.948, 0.948, 0.948, 0.948, 0.948]),\n",
       " 'split9_test_score': array([0.935, 0.935, 0.935, 0.935, 0.935, 0.935, 0.935, 0.935, 0.935]),\n",
       " 'split10_test_score': array([0.956, 0.956, 0.956, 0.956, 0.956, 0.956, 0.956, 0.956, 0.956]),\n",
       " 'split11_test_score': array([0.935, 0.935, 0.935, 0.935, 0.935, 0.935, 0.935, 0.935, 0.935]),\n",
       " 'split12_test_score': array([0.938, 0.938, 0.938, 0.938, 0.938, 0.938, 0.938, 0.938, 0.938]),\n",
       " 'split13_test_score': array([0.946, 0.946, 0.946, 0.946, 0.946, 0.946, 0.946, 0.946, 0.946]),\n",
       " 'split14_test_score': array([0.948, 0.948, 0.948, 0.948, 0.948, 0.948, 0.948, 0.948, 0.948]),\n",
       " 'split15_test_score': array([0.939, 0.939, 0.939, 0.939, 0.939, 0.939, 0.939, 0.939, 0.939]),\n",
       " 'split16_test_score': array([0.949, 0.949, 0.949, 0.949, 0.949, 0.949, 0.949, 0.949, 0.949]),\n",
       " 'split17_test_score': array([0.933, 0.933, 0.933, 0.933, 0.933, 0.933, 0.933, 0.933, 0.933]),\n",
       " 'split18_test_score': array([0.933, 0.933, 0.933, 0.933, 0.933, 0.933, 0.933, 0.933, 0.933]),\n",
       " 'split19_test_score': array([0.938, 0.938, 0.938, 0.938, 0.938, 0.938, 0.938, 0.938, 0.938]),\n",
       " 'split20_test_score': array([0.944, 0.944, 0.944, 0.944, 0.944, 0.944, 0.944, 0.944, 0.944]),\n",
       " 'split21_test_score': array([0.946, 0.946, 0.946, 0.946, 0.946, 0.946, 0.946, 0.946, 0.946]),\n",
       " 'split22_test_score': array([0.946, 0.946, 0.946, 0.946, 0.946, 0.946, 0.946, 0.946, 0.946]),\n",
       " 'split23_test_score': array([0.945, 0.945, 0.945, 0.945, 0.945, 0.945, 0.945, 0.945, 0.945]),\n",
       " 'split24_test_score': array([0.941, 0.941, 0.941, 0.941, 0.941, 0.941, 0.941, 0.941, 0.941]),\n",
       " 'split25_test_score': array([0.949, 0.949, 0.949, 0.949, 0.949, 0.949, 0.949, 0.949, 0.949]),\n",
       " 'split26_test_score': array([0.935, 0.935, 0.935, 0.935, 0.935, 0.935, 0.935, 0.935, 0.935]),\n",
       " 'split27_test_score': array([0.929, 0.929, 0.929, 0.929, 0.929, 0.929, 0.929, 0.929, 0.929]),\n",
       " 'split28_test_score': array([0.941, 0.941, 0.941, 0.941, 0.941, 0.941, 0.941, 0.941, 0.941]),\n",
       " 'split29_test_score': array([0.953, 0.953, 0.953, 0.953, 0.953, 0.953, 0.953, 0.953, 0.953]),\n",
       " 'mean_test_score': array([0.94193333, 0.94193333, 0.94193333, 0.94193333, 0.94193333,\n",
       "        0.94193333, 0.94193333, 0.94193333, 0.94193333]),\n",
       " 'std_test_score': array([0.00743386, 0.00743386, 0.00743386, 0.00743386, 0.00743386,\n",
       "        0.00743386, 0.00743386, 0.00743386, 0.00743386]),\n",
       " 'rank_test_score': array([1, 1, 1, 1, 1, 1, 1, 1, 1])}"
      ]
     },
     "execution_count": 94,
     "metadata": {},
     "output_type": "execute_result"
    }
   ],
   "source": [
    "result.cv_results_ "
   ]
  },
  {
   "cell_type": "code",
   "execution_count": 96,
   "metadata": {},
   "outputs": [],
   "source": [
    "mean = result.cv_results_['mean_test_score']\n",
    "std = result.cv_results_['std_test_score']\n",
    "params = result.cv_results_['params']"
   ]
  },
  {
   "cell_type": "code",
   "execution_count": 97,
   "metadata": {},
   "outputs": [
    {
     "data": {
      "text/plain": [
       "array([0.94193333, 0.94193333, 0.94193333, 0.94193333, 0.94193333,\n",
       "       0.94193333, 0.94193333, 0.94193333, 0.94193333])"
      ]
     },
     "execution_count": 97,
     "metadata": {},
     "output_type": "execute_result"
    }
   ],
   "source": [
    "mean"
   ]
  },
  {
   "cell_type": "code",
   "execution_count": null,
   "metadata": {},
   "outputs": [],
   "source": []
  }
 ],
 "metadata": {
  "kernelspec": {
   "display_name": "Python 3",
   "language": "python",
   "name": "python3"
  },
  "language_info": {
   "codemirror_mode": {
    "name": "ipython",
    "version": 3
   },
   "file_extension": ".py",
   "mimetype": "text/x-python",
   "name": "python",
   "nbconvert_exporter": "python",
   "pygments_lexer": "ipython3",
   "version": "3.7.6"
  }
 },
 "nbformat": 4,
 "nbformat_minor": 4
}
