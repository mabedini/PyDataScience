{
 "cells": [
  {
   "cell_type": "code",
   "execution_count": 100,
   "metadata": {},
   "outputs": [],
   "source": [
    "# taken from \n",
    "# https://machinelearningmastery.com/xgboost-for-imbalanced-classification/"
   ]
  },
  {
   "cell_type": "code",
   "execution_count": 42,
   "metadata": {},
   "outputs": [],
   "source": [
    "from sklearn.datasets import make_classification\n",
    "from collections import Counter\n",
    "import numpy as np\n",
    "from matplotlib import pyplot"
   ]
  },
  {
   "cell_type": "code",
   "execution_count": 133,
   "metadata": {},
   "outputs": [],
   "source": [
    "# generate randomly high imbalanced data\n",
    "X,y = make_classification(n_samples= 10000 ,  n_features = 2, n_clusters_per_class=2, n_redundant =0 , weights=[0.99] , flip_y=0)\n",
    "#X, y = make_classification(n_samples=10000, n_features=2, n_redundant=0,\n",
    "#\tn_clusters_per_class=2, weights=[0.99], flip_y=0, random_state=7)"
   ]
  },
  {
   "cell_type": "code",
   "execution_count": 134,
   "metadata": {},
   "outputs": [],
   "source": [
    "counter = Counter(y)"
   ]
  },
  {
   "cell_type": "code",
   "execution_count": 135,
   "metadata": {},
   "outputs": [
    {
     "name": "stdout",
     "output_type": "stream",
     "text": [
      "Counter({0: 9900, 1: 100})\n"
     ]
    }
   ],
   "source": [
    "print(counter)"
   ]
  },
  {
   "cell_type": "code",
   "execution_count": 136,
   "metadata": {},
   "outputs": [
    {
     "data": {
      "image/png": "[encoded data removed]",
      "text/plain": [
       "<Figure size 432x288 with 1 Axes>"
      ]
     },
     "metadata": {
      "needs_background": "light"
     },
     "output_type": "display_data"
    }
   ],
   "source": [
    "# visualize the class distribution\n",
    "for label , _ in counter.items():\n",
    "    inx = np.where( y==label)\n",
    "    pyplot.scatter(X[inx,0],X[inx,1] , label = str(label))\n",
    "pyplot.legend()\n",
    "pyplot.show()"
   ]
  },
  {
   "cell_type": "code",
   "execution_count": 137,
   "metadata": {},
   "outputs": [],
   "source": [
    "from sklearn.model_selection import RepeatedStratifiedKFold\n",
    "from sklearn.model_selection import cross_val_score\n",
    "from xgboost import XGBClassifier"
   ]
  },
  {
   "cell_type": "code",
   "execution_count": 138,
   "metadata": {},
   "outputs": [],
   "source": [
    "# train model with 10 fold , 3 repeats of XGBoost classifier , no parameter tuning\n",
    "model = XGBClassifier()\n",
    "cv = RepeatedStratifiedKFold(n_splits= 10, n_repeats = 3 )\n",
    "score = cross_val_score(model, X, y , cv=cv, scoring = 'roc_auc')"
   ]
  },
  {
   "cell_type": "code",
   "execution_count": 139,
   "metadata": {},
   "outputs": [
    {
     "name": "stdout",
     "output_type": "stream",
     "text": [
      "mean of auc = 0.95623\n"
     ]
    }
   ],
   "source": [
    "# the base line auc\n",
    "print('mean of auc = %.5f' % np.mean(score))"
   ]
  },
  {
   "cell_type": "code",
   "execution_count": 140,
   "metadata": {},
   "outputs": [
    {
     "name": "stdout",
     "output_type": "stream",
     "text": [
      "99.0\n"
     ]
    }
   ],
   "source": [
    "# XGBoost has scale weight to set it up for imbalance data faster convergence \n",
    "estimate  = (counter[0] / counter[1])\n",
    "print (estimate )"
   ]
  },
  {
   "cell_type": "code",
   "execution_count": 141,
   "metadata": {},
   "outputs": [],
   "source": [
    "model_imb = XGBClassifier(scale_pos_weight = 99) "
   ]
  },
  {
   "cell_type": "code",
   "execution_count": 161,
   "metadata": {},
   "outputs": [],
   "source": [
    "score_imb = cross_val_score(model_imb , X, y , scoring = 'roc_auc' , cv =cv)"
   ]
  },
  {
   "cell_type": "code",
   "execution_count": 162,
   "metadata": {},
   "outputs": [
    {
     "name": "stdout",
     "output_type": "stream",
     "text": [
      "mean of auc of imblance XGBoost 0.96115\n"
     ]
    }
   ],
   "source": [
    "# get the aur score for imbalance XGBoost classifier\n",
    "print('mean of auc of imblance XGBoost %.5f' % np.mean(score_imb))"
   ]
  },
  {
   "cell_type": "markdown",
   "metadata": {},
   "source": [
    "# we can leverage grid search for checkign various weight class"
   ]
  },
  {
   "cell_type": "code",
   "execution_count": 144,
   "metadata": {},
   "outputs": [],
   "source": [
    "from sklearn.model_selection import GridSearchCV"
   ]
  },
  {
   "cell_type": "code",
   "execution_count": 145,
   "metadata": {},
   "outputs": [],
   "source": [
    "weights = [1, 10 , 20 , 25, 50 , 75, 99, 100, 1000]\n",
    "param_grid = dict(scale_pos_wieght = weights)"
   ]
  },
  {
   "cell_type": "code",
   "execution_count": 146,
   "metadata": {},
   "outputs": [],
   "source": [
    "cv = RepeatedStratifiedKFold(n_splits = 10, n_repeats =3 , random_state=1)"
   ]
  },
  {
   "cell_type": "code",
   "execution_count": 166,
   "metadata": {},
   "outputs": [],
   "source": [
    "# run grid search\n",
    "model = XGBClassifier()\n",
    "\n",
    "grid = GridSearchCV(estimator = model , param_grid = param_grid, cv =cv , n_jobs = -1 ,  scoring='roc_auc')"
   ]
  },
  {
   "cell_type": "code",
   "execution_count": 167,
   "metadata": {},
   "outputs": [],
   "source": [
    "result = grid.fit(X,y)"
   ]
  },
  {
   "cell_type": "code",
   "execution_count": 168,
   "metadata": {},
   "outputs": [
    {
     "name": "stdout",
     "output_type": "stream",
     "text": [
      "best 0.955579 with {'scale_pos_wieght': 1} \n"
     ]
    }
   ],
   "source": [
    "print(\"best %f with %s \"% (result.best_score_ , result.best_params_))"
   ]
  },
  {
   "cell_type": "code",
   "execution_count": 169,
   "metadata": {},
   "outputs": [],
   "source": [
    "mean = result.cv_results_['mean_test_score']\n",
    "std = result.cv_results_['std_test_score']\n",
    "params = result.cv_results_['params']"
   ]
  },
  {
   "cell_type": "code",
   "execution_count": 170,
   "metadata": {},
   "outputs": [
    {
     "name": "stdout",
     "output_type": "stream",
     "text": [
      "0.955579 0.034361 {'scale_pos_wieght': 1}\n",
      "0.955579 0.034361 {'scale_pos_wieght': 10}\n",
      "0.955579 0.034361 {'scale_pos_wieght': 20}\n",
      "0.955579 0.034361 {'scale_pos_wieght': 25}\n",
      "0.955579 0.034361 {'scale_pos_wieght': 50}\n",
      "0.955579 0.034361 {'scale_pos_wieght': 75}\n",
      "0.955579 0.034361 {'scale_pos_wieght': 99}\n",
      "0.955579 0.034361 {'scale_pos_wieght': 100}\n",
      "0.955579 0.034361 {'scale_pos_wieght': 1000}\n"
     ]
    }
   ],
   "source": [
    "for m, s, p in zip(mean,std,params) :\n",
    "    print(\"%f %f %s\" % (m,s,p))"
   ]
  },
  {
   "cell_type": "code",
   "execution_count": 171,
   "metadata": {},
   "outputs": [
    {
     "name": "stdout",
     "output_type": "stream",
     "text": [
      "Best: 0.960155 using {'scale_pos_weight': 1000}\n",
      "0.953721 (0.035950) with: {'scale_pos_weight': 1}\n",
      "0.958254 (0.028362) with: {'scale_pos_weight': 10}\n",
      "0.957892 (0.027283) with: {'scale_pos_weight': 25}\n",
      "0.959157 (0.027430) with: {'scale_pos_weight': 50}\n",
      "0.959241 (0.028015) with: {'scale_pos_weight': 75}\n",
      "0.959305 (0.028286) with: {'scale_pos_weight': 99}\n",
      "0.959505 (0.028213) with: {'scale_pos_weight': 100}\n",
      "0.960155 (0.028721) with: {'scale_pos_weight': 1000}\n"
     ]
    }
   ],
   "source": [
    "# grid search positive class weights with xgboost for imbalance classification\n",
    "from numpy import mean\n",
    "from sklearn.datasets import make_classification\n",
    "from sklearn.model_selection import GridSearchCV\n",
    "from sklearn.model_selection import RepeatedStratifiedKFold\n",
    "from xgboost import XGBClassifier\n",
    "# generate dataset\n",
    "X, y = make_classification(n_samples=10000, n_features=2, n_redundant=0,\n",
    "\tn_clusters_per_class=2, weights=[0.99], flip_y=0, random_state=7)\n",
    "# define model\n",
    "model = XGBClassifier()\n",
    "# define grid\n",
    "weights = [1, 10, 25, 50, 75, 99, 100, 1000]\n",
    "param_grid = dict(scale_pos_weight=weights)\n",
    "# define evaluation procedure\n",
    "cv = RepeatedStratifiedKFold(n_splits=10, n_repeats=3, random_state=1)\n",
    "# define grid search\n",
    "grid = GridSearchCV(estimator=model, param_grid=param_grid, n_jobs=-1, cv=cv, scoring='roc_auc')\n",
    "# execute the grid search\n",
    "grid_result = grid.fit(X, y)\n",
    "# report the best configuration\n",
    "print(\"Best: %f using %s\" % (grid_result.best_score_, grid_result.best_params_))\n",
    "# report all configurations\n",
    "means = grid_result.cv_results_['mean_test_score']\n",
    "stds = grid_result.cv_results_['std_test_score']\n",
    "params = grid_result.cv_results_['params']\n",
    "for mean, stdev, param in zip(means, stds, params):\n",
    "    print(\"%f (%f) with: %r\" % (mean, stdev, param))"
   ]
  },
  {
   "cell_type": "code",
   "execution_count": null,
   "metadata": {},
   "outputs": [],
   "source": []
  }
 ],
 "metadata": {
  "kernelspec": {
   "display_name": "Python 3",
   "language": "python",
   "name": "python3"
  },
  "language_info": {
   "codemirror_mode": {
    "name": "ipython",
    "version": 3
   },
   "file_extension": ".py",
   "mimetype": "text/x-python",
   "name": "python",
   "nbconvert_exporter": "python",
   "pygments_lexer": "ipython3",
   "version": "3.7.6"
  }
 },
 "nbformat": 4,
 "nbformat_minor": 4
}
